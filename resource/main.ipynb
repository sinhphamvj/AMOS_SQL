{
 "cells": [
  {
   "cell_type": "code",
   "execution_count": 23,
   "id": "d205a6e1",
   "metadata": {},
   "outputs": [],
   "source": [
    "import pandas as pd\n",
    "df = pd.read_excel(r\"C:\\Users\\sinhpham\\Downloads\\9.2025 R0 AMO.CXR station 26.8-25.9.xlsx\", sheet_name=\"Roster MCC CXR\")"
   ]
  },
  {
   "cell_type": "code",
   "execution_count": 24,
   "id": "205e34f5",
   "metadata": {},
   "outputs": [],
   "source": [
    "filtered_df = df[df[['Unnamed: 1', 'Unnamed: 2']].notnull().all(axis=1)]\n"
   ]
  },
  {
   "cell_type": "code",
   "execution_count": 25,
   "id": "d11becc4",
   "metadata": {},
   "outputs": [],
   "source": [
    "filtered_df = filtered_df[filtered_df['Unnamed: 0'] != 'STT\\nNo']"
   ]
  },
  {
   "cell_type": "code",
   "execution_count": 26,
   "id": "54863e94",
   "metadata": {},
   "outputs": [],
   "source": [
    "filtered_df = filtered_df[~filtered_df['Unnamed: 4'].isin(['SGN', 'VII'])]"
   ]
  },
  {
   "cell_type": "code",
   "execution_count": 27,
   "id": "f2492377",
   "metadata": {},
   "outputs": [],
   "source": [
    "filtered_df = filtered_df.drop_duplicates(subset='Unnamed: 1')"
   ]
  },
  {
   "cell_type": "code",
   "execution_count": null,
   "id": "ebeb8d12",
   "metadata": {},
   "outputs": [],
   "source": []
  }
 ],
 "metadata": {
  "kernelspec": {
   "display_name": ".venv",
   "language": "python",
   "name": "python3"
  },
  "language_info": {
   "codemirror_mode": {
    "name": "ipython",
    "version": 3
   },
   "file_extension": ".py",
   "mimetype": "text/x-python",
   "name": "python",
   "nbconvert_exporter": "python",
   "pygments_lexer": "ipython3",
   "version": "3.13.5"
  }
 },
 "nbformat": 4,
 "nbformat_minor": 5
}
